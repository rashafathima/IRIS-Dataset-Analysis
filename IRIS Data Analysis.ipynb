{
 "cells": [
  {
   "cell_type": "markdown",
   "id": "41bb7c01",
   "metadata": {},
   "source": [
    "# Analysing IRIS Datasets with KNN and Logistic Regression"
   ]
  },
  {
   "cell_type": "markdown",
   "id": "b76fca9f",
   "metadata": {},
   "source": [
    "## ● Using KNN"
   ]
  },
  {
   "cell_type": "markdown",
   "id": "b7f2429a",
   "metadata": {},
   "source": [
    "### Just giving a short overview of traning, fitting and testing the model manually using KNN"
   ]
  },
  {
   "cell_type": "code",
   "execution_count": 3,
   "id": "0794f36d",
   "metadata": {},
   "outputs": [
    {
     "data": {
      "text/plain": [
       "sklearn.utils.Bunch"
      ]
     },
     "execution_count": 3,
     "metadata": {},
     "output_type": "execute_result"
    }
   ],
   "source": [
    "from sklearn.datasets import load_iris  #load_iris is the in built dataset in scikit learn\n",
    "iris = load_iris()\n",
    "type(iris)  #Data type bunch represents it has attributes such as feature_names(cols), target_names(3 species), data(will store all the features), target(will store all the target values)"
   ]
  },
  {
   "cell_type": "code",
   "execution_count": 4,
   "id": "bfb152ec",
   "metadata": {},
   "outputs": [
    {
     "name": "stdout",
     "output_type": "stream",
     "text": [
      "['sepal length (cm)', 'sepal width (cm)', 'petal length (cm)', 'petal width (cm)']\n"
     ]
    }
   ],
   "source": [
    "print(iris.feature_names)  #represents all the input cols"
   ]
  },
  {
   "cell_type": "code",
   "execution_count": 5,
   "id": "0c82957a",
   "metadata": {},
   "outputs": [
    {
     "name": "stdout",
     "output_type": "stream",
     "text": [
      "['setosa' 'versicolor' 'virginica']\n"
     ]
    }
   ],
   "source": [
    "print(iris.target_names)"
   ]
  },
  {
   "cell_type": "code",
   "execution_count": 6,
   "id": "f88b2c50",
   "metadata": {},
   "outputs": [
    {
     "name": "stdout",
     "output_type": "stream",
     "text": [
      "[[5.1 3.5 1.4 0.2]\n",
      " [4.9 3.  1.4 0.2]\n",
      " [4.7 3.2 1.3 0.2]\n",
      " [4.6 3.1 1.5 0.2]\n",
      " [5.  3.6 1.4 0.2]\n",
      " [5.4 3.9 1.7 0.4]\n",
      " [4.6 3.4 1.4 0.3]\n",
      " [5.  3.4 1.5 0.2]\n",
      " [4.4 2.9 1.4 0.2]\n",
      " [4.9 3.1 1.5 0.1]\n",
      " [5.4 3.7 1.5 0.2]\n",
      " [4.8 3.4 1.6 0.2]\n",
      " [4.8 3.  1.4 0.1]\n",
      " [4.3 3.  1.1 0.1]\n",
      " [5.8 4.  1.2 0.2]\n",
      " [5.7 4.4 1.5 0.4]\n",
      " [5.4 3.9 1.3 0.4]\n",
      " [5.1 3.5 1.4 0.3]\n",
      " [5.7 3.8 1.7 0.3]\n",
      " [5.1 3.8 1.5 0.3]\n",
      " [5.4 3.4 1.7 0.2]\n",
      " [5.1 3.7 1.5 0.4]\n",
      " [4.6 3.6 1.  0.2]\n",
      " [5.1 3.3 1.7 0.5]\n",
      " [4.8 3.4 1.9 0.2]\n",
      " [5.  3.  1.6 0.2]\n",
      " [5.  3.4 1.6 0.4]\n",
      " [5.2 3.5 1.5 0.2]\n",
      " [5.2 3.4 1.4 0.2]\n",
      " [4.7 3.2 1.6 0.2]\n",
      " [4.8 3.1 1.6 0.2]\n",
      " [5.4 3.4 1.5 0.4]\n",
      " [5.2 4.1 1.5 0.1]\n",
      " [5.5 4.2 1.4 0.2]\n",
      " [4.9 3.1 1.5 0.2]\n",
      " [5.  3.2 1.2 0.2]\n",
      " [5.5 3.5 1.3 0.2]\n",
      " [4.9 3.6 1.4 0.1]\n",
      " [4.4 3.  1.3 0.2]\n",
      " [5.1 3.4 1.5 0.2]\n",
      " [5.  3.5 1.3 0.3]\n",
      " [4.5 2.3 1.3 0.3]\n",
      " [4.4 3.2 1.3 0.2]\n",
      " [5.  3.5 1.6 0.6]\n",
      " [5.1 3.8 1.9 0.4]\n",
      " [4.8 3.  1.4 0.3]\n",
      " [5.1 3.8 1.6 0.2]\n",
      " [4.6 3.2 1.4 0.2]\n",
      " [5.3 3.7 1.5 0.2]\n",
      " [5.  3.3 1.4 0.2]\n",
      " [7.  3.2 4.7 1.4]\n",
      " [6.4 3.2 4.5 1.5]\n",
      " [6.9 3.1 4.9 1.5]\n",
      " [5.5 2.3 4.  1.3]\n",
      " [6.5 2.8 4.6 1.5]\n",
      " [5.7 2.8 4.5 1.3]\n",
      " [6.3 3.3 4.7 1.6]\n",
      " [4.9 2.4 3.3 1. ]\n",
      " [6.6 2.9 4.6 1.3]\n",
      " [5.2 2.7 3.9 1.4]\n",
      " [5.  2.  3.5 1. ]\n",
      " [5.9 3.  4.2 1.5]\n",
      " [6.  2.2 4.  1. ]\n",
      " [6.1 2.9 4.7 1.4]\n",
      " [5.6 2.9 3.6 1.3]\n",
      " [6.7 3.1 4.4 1.4]\n",
      " [5.6 3.  4.5 1.5]\n",
      " [5.8 2.7 4.1 1. ]\n",
      " [6.2 2.2 4.5 1.5]\n",
      " [5.6 2.5 3.9 1.1]\n",
      " [5.9 3.2 4.8 1.8]\n",
      " [6.1 2.8 4.  1.3]\n",
      " [6.3 2.5 4.9 1.5]\n",
      " [6.1 2.8 4.7 1.2]\n",
      " [6.4 2.9 4.3 1.3]\n",
      " [6.6 3.  4.4 1.4]\n",
      " [6.8 2.8 4.8 1.4]\n",
      " [6.7 3.  5.  1.7]\n",
      " [6.  2.9 4.5 1.5]\n",
      " [5.7 2.6 3.5 1. ]\n",
      " [5.5 2.4 3.8 1.1]\n",
      " [5.5 2.4 3.7 1. ]\n",
      " [5.8 2.7 3.9 1.2]\n",
      " [6.  2.7 5.1 1.6]\n",
      " [5.4 3.  4.5 1.5]\n",
      " [6.  3.4 4.5 1.6]\n",
      " [6.7 3.1 4.7 1.5]\n",
      " [6.3 2.3 4.4 1.3]\n",
      " [5.6 3.  4.1 1.3]\n",
      " [5.5 2.5 4.  1.3]\n",
      " [5.5 2.6 4.4 1.2]\n",
      " [6.1 3.  4.6 1.4]\n",
      " [5.8 2.6 4.  1.2]\n",
      " [5.  2.3 3.3 1. ]\n",
      " [5.6 2.7 4.2 1.3]\n",
      " [5.7 3.  4.2 1.2]\n",
      " [5.7 2.9 4.2 1.3]\n",
      " [6.2 2.9 4.3 1.3]\n",
      " [5.1 2.5 3.  1.1]\n",
      " [5.7 2.8 4.1 1.3]\n",
      " [6.3 3.3 6.  2.5]\n",
      " [5.8 2.7 5.1 1.9]\n",
      " [7.1 3.  5.9 2.1]\n",
      " [6.3 2.9 5.6 1.8]\n",
      " [6.5 3.  5.8 2.2]\n",
      " [7.6 3.  6.6 2.1]\n",
      " [4.9 2.5 4.5 1.7]\n",
      " [7.3 2.9 6.3 1.8]\n",
      " [6.7 2.5 5.8 1.8]\n",
      " [7.2 3.6 6.1 2.5]\n",
      " [6.5 3.2 5.1 2. ]\n",
      " [6.4 2.7 5.3 1.9]\n",
      " [6.8 3.  5.5 2.1]\n",
      " [5.7 2.5 5.  2. ]\n",
      " [5.8 2.8 5.1 2.4]\n",
      " [6.4 3.2 5.3 2.3]\n",
      " [6.5 3.  5.5 1.8]\n",
      " [7.7 3.8 6.7 2.2]\n",
      " [7.7 2.6 6.9 2.3]\n",
      " [6.  2.2 5.  1.5]\n",
      " [6.9 3.2 5.7 2.3]\n",
      " [5.6 2.8 4.9 2. ]\n",
      " [7.7 2.8 6.7 2. ]\n",
      " [6.3 2.7 4.9 1.8]\n",
      " [6.7 3.3 5.7 2.1]\n",
      " [7.2 3.2 6.  1.8]\n",
      " [6.2 2.8 4.8 1.8]\n",
      " [6.1 3.  4.9 1.8]\n",
      " [6.4 2.8 5.6 2.1]\n",
      " [7.2 3.  5.8 1.6]\n",
      " [7.4 2.8 6.1 1.9]\n",
      " [7.9 3.8 6.4 2. ]\n",
      " [6.4 2.8 5.6 2.2]\n",
      " [6.3 2.8 5.1 1.5]\n",
      " [6.1 2.6 5.6 1.4]\n",
      " [7.7 3.  6.1 2.3]\n",
      " [6.3 3.4 5.6 2.4]\n",
      " [6.4 3.1 5.5 1.8]\n",
      " [6.  3.  4.8 1.8]\n",
      " [6.9 3.1 5.4 2.1]\n",
      " [6.7 3.1 5.6 2.4]\n",
      " [6.9 3.1 5.1 2.3]\n",
      " [5.8 2.7 5.1 1.9]\n",
      " [6.8 3.2 5.9 2.3]\n",
      " [6.7 3.3 5.7 2.5]\n",
      " [6.7 3.  5.2 2.3]\n",
      " [6.3 2.5 5.  1.9]\n",
      " [6.5 3.  5.2 2. ]\n",
      " [6.2 3.4 5.4 2.3]\n",
      " [5.9 3.  5.1 1.8]]\n",
      "<class 'numpy.ndarray'>\n"
     ]
    }
   ],
   "source": [
    "print(iris.data)  \n",
    "print(type(iris.data)) #all the i/p cols converted to matrix with the help of numpy"
   ]
  },
  {
   "cell_type": "code",
   "execution_count": 7,
   "id": "32c5f0cd",
   "metadata": {},
   "outputs": [
    {
     "name": "stdout",
     "output_type": "stream",
     "text": [
      "[0 0 0 0 0 0 0 0 0 0 0 0 0 0 0 0 0 0 0 0 0 0 0 0 0 0 0 0 0 0 0 0 0 0 0 0 0\n",
      " 0 0 0 0 0 0 0 0 0 0 0 0 0 1 1 1 1 1 1 1 1 1 1 1 1 1 1 1 1 1 1 1 1 1 1 1 1\n",
      " 1 1 1 1 1 1 1 1 1 1 1 1 1 1 1 1 1 1 1 1 1 1 1 1 1 1 2 2 2 2 2 2 2 2 2 2 2\n",
      " 2 2 2 2 2 2 2 2 2 2 2 2 2 2 2 2 2 2 2 2 2 2 2 2 2 2 2 2 2 2 2 2 2 2 2 2 2\n",
      " 2 2]\n"
     ]
    }
   ],
   "source": [
    "print(iris.target) #target col convered to vector(1d array) with the help of numpy"
   ]
  },
  {
   "cell_type": "markdown",
   "id": "720b0792",
   "metadata": {},
   "source": [
    "#### ● Now input (data according to sklearn) is passed as one object and output(target) is passed as another \n",
    "#### ● Both input and output are converted into numerical values (input as matrix, output as vector) with the help of numpy \n",
    "####  [ Both the conditions are now satisfied ]\n",
    "<br>\n",
    "\n",
    "####  *Store INPUT (4 cols - DATA) in X (since its a matrix) ; and OUTPUT (1 col - TARGET) in y(lowercase since its a vector)*"
   ]
  },
  {
   "cell_type": "code",
   "execution_count": 8,
   "id": "2050a0d0",
   "metadata": {},
   "outputs": [],
   "source": [
    "X = iris.data\n",
    "y = iris.target"
   ]
  },
  {
   "cell_type": "code",
   "execution_count": 9,
   "id": "cdba0b44",
   "metadata": {},
   "outputs": [
    {
     "name": "stdout",
     "output_type": "stream",
     "text": [
      "KNeighborsClassifier(n_neighbors=1)\n"
     ]
    }
   ],
   "source": [
    "from sklearn.neighbors import KNeighborsClassifier #importing the knn model from scikit learn\n",
    "knn = KNeighborsClassifier(n_neighbors=1) #Check through scikit.org site to know more about the models and their format and syntax\n",
    "print(knn) #rest of the attributes are set to default value"
   ]
  },
  {
   "cell_type": "code",
   "execution_count": 10,
   "id": "c09561b5",
   "metadata": {},
   "outputs": [
    {
     "data": {
      "text/plain": [
       "KNeighborsClassifier(n_neighbors=1)"
      ]
     },
     "execution_count": 10,
     "metadata": {},
     "output_type": "execute_result"
    }
   ],
   "source": [
    "knn.fit(X,y) #fitting into the model on the aim to get the best fit for better accuracy"
   ]
  },
  {
   "cell_type": "code",
   "execution_count": 11,
   "id": "d6d3f15c",
   "metadata": {},
   "outputs": [
    {
     "name": "stdout",
     "output_type": "stream",
     "text": [
      "[0]\n"
     ]
    },
    {
     "data": {
      "text/plain": [
       "numpy.ndarray"
      ]
     },
     "execution_count": 11,
     "metadata": {},
     "output_type": "execute_result"
    }
   ],
   "source": [
    "prediction = knn.predict([[2,4,3,1]]) #giving the 4 input values\n",
    "print(prediction) \n",
    "type(prediction) #vector"
   ]
  },
  {
   "cell_type": "code",
   "execution_count": 12,
   "id": "3da64359",
   "metadata": {},
   "outputs": [
    {
     "name": "stdout",
     "output_type": "stream",
     "text": [
      "['setosa' 'versicolor' 'virginica']\n"
     ]
    }
   ],
   "source": [
    "print(iris.target_names) #0 represents the k value belongs to setosa class"
   ]
  },
  {
   "cell_type": "code",
   "execution_count": 13,
   "id": "66efca87",
   "metadata": {},
   "outputs": [
    {
     "name": "stdout",
     "output_type": "stream",
     "text": [
      "[0 0]\n"
     ]
    }
   ],
   "source": [
    "#example 2 for neighbor = 1\n",
    "prediction2  = knn.predict([[5.1,3.5,1.4,0.2],[4.9,3,1.4,0.2]])\n",
    "print(prediction2) #belongs to setosa and virginica"
   ]
  },
  {
   "cell_type": "markdown",
   "id": "002d83b3",
   "metadata": {},
   "source": [
    "### KNN for K=1 to 30"
   ]
  },
  {
   "cell_type": "code",
   "execution_count": 14,
   "id": "e2058939",
   "metadata": {},
   "outputs": [
    {
     "name": "stdout",
     "output_type": "stream",
     "text": [
      "For k =  1\n",
      "[0 0]\n",
      "For k =  2\n",
      "[0 0]\n",
      "For k =  3\n",
      "[0 0]\n",
      "For k =  4\n",
      "[0 0]\n",
      "For k =  5\n",
      "[0 0]\n",
      "For k =  6\n",
      "[0 0]\n",
      "For k =  7\n",
      "[0 0]\n",
      "For k =  8\n",
      "[0 0]\n",
      "For k =  9\n",
      "[0 0]\n",
      "For k =  10\n",
      "[0 0]\n",
      "For k =  11\n",
      "[0 0]\n",
      "For k =  12\n",
      "[0 0]\n",
      "For k =  13\n",
      "[0 0]\n",
      "For k =  14\n",
      "[0 0]\n",
      "For k =  15\n",
      "[0 0]\n",
      "For k =  16\n",
      "[0 0]\n",
      "For k =  17\n",
      "[0 0]\n",
      "For k =  18\n",
      "[0 0]\n",
      "For k =  19\n",
      "[0 0]\n",
      "For k =  20\n",
      "[0 0]\n",
      "For k =  21\n",
      "[0 0]\n",
      "For k =  22\n",
      "[0 0]\n",
      "For k =  23\n",
      "[0 0]\n",
      "For k =  24\n",
      "[0 0]\n",
      "For k =  25\n",
      "[0 0]\n",
      "For k =  26\n",
      "[0 0]\n",
      "For k =  27\n",
      "[0 0]\n",
      "For k =  28\n",
      "[0 0]\n",
      "For k =  29\n",
      "[0 0]\n",
      "For k =  30\n",
      "[0 0]\n"
     ]
    }
   ],
   "source": [
    "# finding the best value for k\n",
    "# Running the knn till neighbors upto 30(from 1 to 30)\n",
    "for i in range(1,31):\n",
    "    knn = KNeighborsClassifier(n_neighbors=i)\n",
    "    knn.fit(X,y)\n",
    "    print(\"For k = \",i)\n",
    "    predictionx  = knn.predict([[5.1,3.5,1.4,0.2],[4.9,3,1.4,0.2]])\n",
    "    print(predictionx)"
   ]
  },
  {
   "cell_type": "markdown",
   "id": "8871b422",
   "metadata": {},
   "source": [
    "## ● Logistic Regression"
   ]
  },
  {
   "cell_type": "markdown",
   "id": "d94068e8",
   "metadata": {},
   "source": [
    "### Just giving a short overview of traning, fitting and testing the model manually using logistic regression"
   ]
  },
  {
   "cell_type": "code",
   "execution_count": null,
   "id": "897f062a",
   "metadata": {},
   "outputs": [],
   "source": [
    "from sklearn.linear_model import LogisticRegression\n",
    "logisticreg = LogisticRegression()\n",
    "logisticreg.fit(X,y)"
   ]
  },
  {
   "cell_type": "code",
   "execution_count": 16,
   "id": "5216b1c0",
   "metadata": {},
   "outputs": [
    {
     "name": "stdout",
     "output_type": "stream",
     "text": [
      "[0 0]\n"
     ]
    }
   ],
   "source": [
    "#Cross verify with the first two observations in the dataset\n",
    "predictlog = logisticreg.predict([[5.1,3.5,1.4,0.2],[4.9,3,1.4,0.2]])\n",
    "print(predictlog)"
   ]
  },
  {
   "cell_type": "markdown",
   "id": "1444a98a",
   "metadata": {},
   "source": [
    "## Train,Test and Validation module in Sklearn"
   ]
  },
  {
   "cell_type": "code",
   "execution_count": 17,
   "id": "1189d569",
   "metadata": {},
   "outputs": [],
   "source": [
    "#import sklearn modules\n",
    "\n",
    "from sklearn.model_selection import train_test_split\n",
    "X_train, X_test, y_train, y_test = train_test_split(X, y, test_size=0.3)"
   ]
  },
  {
   "cell_type": "code",
   "execution_count": 18,
   "id": "5d2d94ff",
   "metadata": {},
   "outputs": [
    {
     "name": "stdout",
     "output_type": "stream",
     "text": [
      "(105, 4)\n",
      "(45, 4)\n"
     ]
    }
   ],
   "source": [
    "print(X_train.shape)\n",
    "print(X_test.shape)"
   ]
  },
  {
   "cell_type": "code",
   "execution_count": 19,
   "id": "fab80c18",
   "metadata": {},
   "outputs": [
    {
     "data": {
      "text/plain": [
       "LogisticRegression()"
      ]
     },
     "execution_count": 19,
     "metadata": {},
     "output_type": "execute_result"
    }
   ],
   "source": [
    "logreg = LogisticRegression() \n",
    "logreg.fit(X_train, y_train)"
   ]
  },
  {
   "cell_type": "code",
   "execution_count": 20,
   "id": "16e9958c",
   "metadata": {},
   "outputs": [
    {
     "name": "stdout",
     "output_type": "stream",
     "text": [
      "[1 2 0 1 2 0 0 1 1 2 1 2 2 1 2 2 0 0 1 1 0 1 1 2 1 0 1 2 0 2 2 1 1 1 1 0 1\n",
      " 2 2 0 2 2 1 1 1]\n"
     ]
    }
   ],
   "source": [
    "y_pred = logreg.predict(X_test)\n",
    "print(y_pred)"
   ]
  },
  {
   "cell_type": "code",
   "execution_count": 21,
   "id": "3ea525bf",
   "metadata": {},
   "outputs": [
    {
     "name": "stdout",
     "output_type": "stream",
     "text": [
      "0.9333333333333333\n"
     ]
    }
   ],
   "source": [
    "#Printing the accuracy of the model using Logistic Regression\n",
    "\n",
    "from sklearn import metrics\n",
    "print(metrics.accuracy_score(y_test,y_pred)) #93.3% of accuracy for logistic regression"
   ]
  },
  {
   "cell_type": "code",
   "execution_count": 22,
   "id": "e78d02db",
   "metadata": {},
   "outputs": [
    {
     "name": "stdout",
     "output_type": "stream",
     "text": [
      "For k =  1\n",
      "0.9555555555555556\n",
      "For k =  2\n",
      "0.9555555555555556\n",
      "For k =  3\n",
      "0.9555555555555556\n",
      "For k =  4\n",
      "0.9555555555555556\n",
      "For k =  5\n",
      "0.9333333333333333\n",
      "For k =  6\n",
      "0.9555555555555556\n",
      "For k =  7\n",
      "0.9555555555555556\n",
      "For k =  8\n",
      "0.9555555555555556\n",
      "For k =  9\n",
      "0.9555555555555556\n",
      "For k =  10\n",
      "0.9555555555555556\n",
      "For k =  11\n",
      "0.9333333333333333\n",
      "For k =  12\n",
      "0.9333333333333333\n",
      "For k =  13\n",
      "0.9333333333333333\n",
      "For k =  14\n",
      "0.9333333333333333\n",
      "For k =  15\n",
      "0.9333333333333333\n",
      "For k =  16\n",
      "0.9333333333333333\n",
      "For k =  17\n",
      "0.9333333333333333\n",
      "For k =  18\n",
      "0.9333333333333333\n",
      "For k =  19\n",
      "0.9333333333333333\n",
      "For k =  20\n",
      "0.9333333333333333\n",
      "For k =  21\n",
      "0.9333333333333333\n",
      "For k =  22\n",
      "0.9333333333333333\n",
      "For k =  23\n",
      "0.9333333333333333\n",
      "For k =  24\n",
      "0.9333333333333333\n",
      "For k =  25\n",
      "0.9333333333333333\n",
      "For k =  26\n",
      "0.9333333333333333\n",
      "For k =  27\n",
      "0.9333333333333333\n",
      "For k =  28\n",
      "0.9333333333333333\n",
      "For k =  29\n",
      "0.9333333333333333\n",
      "For k =  30\n",
      "0.9555555555555556\n"
     ]
    }
   ],
   "source": [
    "#Printing accuracy of model using KNN\n",
    "\n",
    "for i in range(1,31):\n",
    "    knn = KNeighborsClassifier(n_neighbors=i)\n",
    "    knn.fit(X_train, y_train)\n",
    "    y_pred = knn.predict(X_test)\n",
    "    print(\"For k = \",i)\n",
    "    predacc = metrics.accuracy_score(y_test,y_pred)\n",
    "    print(predacc)"
   ]
  },
  {
   "cell_type": "markdown",
   "id": "9d439122",
   "metadata": {},
   "source": [
    "### Plotting on the Graph (KNN) for different values of k"
   ]
  },
  {
   "cell_type": "code",
   "execution_count": 23,
   "id": "ac75f1ec",
   "metadata": {},
   "outputs": [
    {
     "data": {
      "image/png": "[encoded data removed]",
      "text/plain": [
       "<Figure size 432x288 with 1 Axes>"
      ]
     },
     "metadata": {
      "needs_background": "light"
     },
     "output_type": "display_data"
    }
   ],
   "source": [
    "import matplotlib.pyplot as plt\n",
    "import numpy as np\n",
    "\n",
    "plt.axis([1,30,0.85,1]) #([x min, xmax, y min , y max]) is the format\n",
    "plt.xlabel('Value of K')\n",
    "plt.ylabel('Accuracy')\n",
    "plt.title('Behavior of k',size=16)\n",
    "\n",
    "x=[] #using append to join continuous elements thats why we decare the array here\n",
    "z=[]\n",
    "\n",
    "for i in range(1,31):\n",
    "    knn = KNeighborsClassifier(n_neighbors=i)\n",
    "    knn.fit(X_train, y_train)\n",
    "    y_pred = knn.predict(X_test)\n",
    "    predacc = metrics.accuracy_score(y_test,y_pred)\n",
    "    \n",
    "    x.append(i); #appends i to the end of the list x=[]. Initially x is empty , so i(i=1) will be loaded as the first element , then 2 will be loaded, then 3,... and so on \n",
    "    z.append(predacc) #similarly predacc that is the first accuracy will be loaded as the first element , then accuracy of k=2 , so om...\n",
    "    plt.plot(x,z,'b-',antialiased=True) #anti aliasing avoids jaggies\n",
    "    plt.plot(x,z,'ro',antialiased=True)\n",
    "    \n",
    "\n",
    "plt.show()"
   ]
  },
  {
   "cell_type": "markdown",
   "id": "76b84954",
   "metadata": {},
   "source": [
    "### K - Fold Cross Validation for KNN"
   ]
  },
  {
   "cell_type": "code",
   "execution_count": 24,
   "id": "c49cd587",
   "metadata": {},
   "outputs": [
    {
     "name": "stdout",
     "output_type": "stream",
     "text": [
      "[0.96, 0.9533333333333334, 0.9666666666666666, 0.9666666666666666, 0.9666666666666668, 0.9666666666666668, 0.9666666666666668, 0.9666666666666668, 0.9733333333333334, 0.9666666666666668, 0.9666666666666668, 0.9733333333333334, 0.9800000000000001, 0.9733333333333334, 0.9733333333333334, 0.9733333333333334, 0.9733333333333334, 0.9800000000000001, 0.9733333333333334, 0.9800000000000001, 0.9666666666666666, 0.9666666666666666, 0.9733333333333334, 0.96, 0.9666666666666666, 0.96, 0.9666666666666666, 0.9533333333333334, 0.9533333333333334, 0.9533333333333334]\n"
     ]
    }
   ],
   "source": [
    "from sklearn.model_selection import cross_val_score\n",
    "\n",
    "k_range = range(1,31)\n",
    "k_scores = []\n",
    "\n",
    "for k in range(1,31):\n",
    "    knn = KNeighborsClassifier(n_neighbors = k)\n",
    "    scores = cross_val_score(knn,X,y,cv=10,scoring='accuracy') #for 10 (k=10) bins #X and y represents that your considering the whole dataset\n",
    "    k_scores.append(scores.mean())\n",
    "    \n",
    "print(k_scores)    "
   ]
  },
  {
   "cell_type": "code",
   "execution_count": 25,
   "id": "884edeff",
   "metadata": {},
   "outputs": [
    {
     "data": {
      "image/png": "[encoded data removed]",
      "text/plain": [
       "<Figure size 432x288 with 1 Axes>"
      ]
     },
     "metadata": {
      "needs_background": "light"
     },
     "output_type": "display_data"
    }
   ],
   "source": [
    "import matplotlib.pyplot as plt\n",
    "\n",
    "plt.plot(k_range, k_scores,antialiased=True)\n",
    "plt.xlabel('K value in KNN')\n",
    "plt.ylabel('Mean accuracy for different values of K')\n",
    "plt.title('Using K-Fold Cross Validation',size = 16)\n",
    "plt.show()"
   ]
  },
  {
   "cell_type": "code",
   "execution_count": 26,
   "id": "331eac06",
   "metadata": {},
   "outputs": [
    {
     "name": "stdout",
     "output_type": "stream",
     "text": [
      "0.9800000000000001\n"
     ]
    }
   ],
   "source": [
    "knns_score = max(k_scores)\n",
    "print(knns_score)"
   ]
  },
  {
   "cell_type": "code",
   "execution_count": 34,
   "id": "f00ca1a0",
   "metadata": {},
   "outputs": [
    {
     "name": "stdout",
     "output_type": "stream",
     "text": [
      "12\n"
     ]
    }
   ],
   "source": [
    "knns_index = k_scores.index(knns_score)\n",
    "print(knns_index)"
   ]
  },
  {
   "cell_type": "code",
   "execution_count": 35,
   "id": "2e8110fd",
   "metadata": {},
   "outputs": [
    {
     "name": "stdout",
     "output_type": "stream",
     "text": [
      "The maximum accuracy using KNN is  0.9800000000000001 at  12 th index of the array\n"
     ]
    }
   ],
   "source": [
    "print('The maximum accuracy using KNN is ',knns_score,'at ',knns_index,'th index of the array')"
   ]
  },
  {
   "cell_type": "markdown",
   "id": "75df7145",
   "metadata": {},
   "source": [
    "### K - Fold Cross Validation for Logistic regression"
   ]
  },
  {
   "cell_type": "code",
   "execution_count": null,
   "id": "309e975e",
   "metadata": {},
   "outputs": [],
   "source": [
    "from sklearn.model_selection import cross_val_score\n",
    "\n",
    "scoreslog = cross_val_score(logreg,X,y,cv=10,scoring='accuracy')"
   ]
  },
  {
   "cell_type": "code",
   "execution_count": 38,
   "id": "28ff5eef",
   "metadata": {},
   "outputs": [
    {
     "name": "stdout",
     "output_type": "stream",
     "text": [
      "[1.         0.93333333 1.         1.         0.93333333 0.93333333\n",
      " 0.93333333 1.         1.         1.        ]\n"
     ]
    }
   ],
   "source": [
    "print(scoreslog)"
   ]
  },
  {
   "cell_type": "code",
   "execution_count": 39,
   "id": "4894eccb",
   "metadata": {},
   "outputs": [
    {
     "name": "stdout",
     "output_type": "stream",
     "text": [
      "1.0\n"
     ]
    }
   ],
   "source": [
    "logreg_score = max(scoreslog)\n",
    "print(logreg_score)"
   ]
  },
  {
   "cell_type": "code",
   "execution_count": 40,
   "id": "f270242d",
   "metadata": {},
   "outputs": [
    {
     "name": "stdout",
     "output_type": "stream",
     "text": [
      "Max Accuracy using Logistic Regression is  1.0\n"
     ]
    }
   ],
   "source": [
    "print('Max Accuracy using Logistic Regression is ',logreg_score)"
   ]
  },
  {
   "cell_type": "code",
   "execution_count": 41,
   "id": "3796e571",
   "metadata": {},
   "outputs": [
    {
     "name": "stdout",
     "output_type": "stream",
     "text": [
      "Logistic Regression has better Accuracy\n"
     ]
    }
   ],
   "source": [
    "if (knns_score > logreg_score):\n",
    "    print('KNN has better Accuracy at ',knns_score.index())\n",
    "else:\n",
    "    print('Logistic Regression has better Accuracy')"
   ]
  },
  {
   "cell_type": "markdown",
   "id": "fd527497",
   "metadata": {},
   "source": [
    "### From this study its clear that logistic regression has a better accuracy rate that any value of k for KNN"
   ]
  }
 ],
 "metadata": {
  "kernelspec": {
   "display_name": "Python 3",
   "language": "python",
   "name": "python3"
  },
  "language_info": {
   "codemirror_mode": {
    "name": "ipython",
    "version": 3
   },
   "file_extension": ".py",
   "mimetype": "text/x-python",
   "name": "python",
   "nbconvert_exporter": "python",
   "pygments_lexer": "ipython3",
   "version": "3.8.8"
  }
 },
 "nbformat": 4,
 "nbformat_minor": 5
}
